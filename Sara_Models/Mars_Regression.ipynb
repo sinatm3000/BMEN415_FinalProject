{
 "cells": [
  {
   "cell_type": "code",
   "execution_count": 2,
   "id": "ed4cd0e9",
   "metadata": {},
   "outputs": [
    {
     "name": "stdout",
     "output_type": "stream",
     "text": [
      "C:\\Users\\sinat\\Downloads\n",
      "Training set RMSE: 0.5868327299992658\n",
      "Training set R^2: 0.8066921493062071\n",
      "Test set RMSE: 0.8223822108250614\n",
      "Test set R^2: 0.6519866506703949\n"
     ]
    }
   ],
   "source": [
    "import pandas as pd\n",
    "import numpy as np\n",
    "from sklearn.tree import DecisionTreeRegressor\n",
    "from sklearn.metrics import r2_score, mean_squared_error\n",
    "\n",
    "# Load the dataset\n",
    "%cd C:\\Users\\sinat\\Downloads\n",
    "data = pd.read_csv('Regression Data Set.csv')\n",
    "\n",
    "# Split into train and test sets\n",
    "train_data = data[data['Set'] == 'Train']\n",
    "test_data = data[data['Set'] == 'Test']\n",
    "\n",
    "# Separate the independent and dependent variables\n",
    "X_train = train_data[['nHM', 'piPC09', 'PCD', 'X2Av', 'MLOGP', 'ON1V', 'N-072', 'B02[C-N]', 'F04[C-O]']]\n",
    "X_test = test_data[['nHM', 'piPC09', 'PCD', 'X2Av', 'MLOGP', 'ON1V', 'N-072', 'B02[C-N]', 'F04[C-O]']]\n",
    "y_train = train_data['logBCF']\n",
    "y_test = test_data['logBCF']\n",
    "\n",
    "# Train the Decision Tree regression model\n",
    "model = DecisionTreeRegressor(max_depth=5)\n",
    "model.fit(X_train, y_train)\n",
    "\n",
    "# Make predictions on the training set\n",
    "y_train_pred = model.predict(X_train)\n",
    "\n",
    "# Calculate the RMSE and R^2 on the training set\n",
    "rmse_train = np.sqrt(mean_squared_error(y_train, y_train_pred))\n",
    "r2_train = r2_score(y_train, y_train_pred)\n",
    "\n",
    "# Make predictions on the test set\n",
    "y_test_pred = model.predict(X_test)\n",
    "\n",
    "# Calculate the RMSE and R^2 on the test set\n",
    "rmse_test = np.sqrt(mean_squared_error(y_test, y_test_pred))\n",
    "r2_test = r2_score(y_test, y_test_pred)\n",
    "\n",
    "print('Training set RMSE:', rmse_train)\n",
    "print('Training set R^2:', r2_train)\n",
    "print('Test set RMSE:', rmse_test)\n",
    "print('Test set R^2:', r2_test)\n",
    "\n"
   ]
  },
  {
   "cell_type": "code",
   "execution_count": null,
   "id": "4a034b2e",
   "metadata": {},
   "outputs": [],
   "source": []
  }
 ],
 "metadata": {
  "kernelspec": {
   "display_name": "Python 3 (ipykernel)",
   "language": "python",
   "name": "python3"
  },
  "language_info": {
   "codemirror_mode": {
    "name": "ipython",
    "version": 3
   },
   "file_extension": ".py",
   "mimetype": "text/x-python",
   "name": "python",
   "nbconvert_exporter": "python",
   "pygments_lexer": "ipython3",
   "version": "3.9.13"
  }
 },
 "nbformat": 4,
 "nbformat_minor": 5
}
