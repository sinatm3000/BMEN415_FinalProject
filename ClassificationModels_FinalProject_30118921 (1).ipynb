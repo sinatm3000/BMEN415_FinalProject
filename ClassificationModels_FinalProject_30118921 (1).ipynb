{
 "cells": [
  {
   "cell_type": "code",
   "execution_count": 10,
   "id": "e1550f2e",
   "metadata": {},
   "outputs": [],
   "source": [
    "#INITIALIZATION\n",
    "import pandas as pd\n",
    "import numpy as np\n",
    "from matplotlib import pyplot as plt\n",
    "import seaborn as sns\n",
    "\n",
    "#models\n",
    "from sklearn.discriminant_analysis import LinearDiscriminantAnalysis\n",
    "from sklearn.linear_model import LogisticRegression\n",
    "from sklearn.cross_decomposition import PLSRegression\n",
    "\n",
    "#testing\n",
    "from sklearn.model_selection import train_test_split\n",
    "from sklearn.model_selection import RepeatedStratifiedKFold\n",
    "from sklearn.model_selection import cross_val_score\n",
    "from sklearn.metrics import accuracy_score\n",
    "from sklearn.metrics import confusion_matrix\n",
    "\n",
    "from sklearn.preprocessing import StandardScaler\n",
    "\n",
    "#DATASET\n",
    "class_data = pd.read_csv('/Users/asamc/Documents/BMEN415/classification.csv')\n",
    "#Had to convert to binary for the PLS Model only!\n",
    "class_data['diagnosis'] = class_data['diagnosis'].replace('B', 0)\n",
    "class_data['diagnosis'] = class_data['diagnosis'].replace('M', 1)\n",
    "\n",
    "class_data\n",
    "\n",
    "#assigning features to x and target to y\n",
    "X = class_data.drop(['diagnosis'], axis=1)\n",
    "y = class_data['diagnosis']\n",
    "\n",
    "X_train, X_test, y_train, y_test = train_test_split(X, y, test_size=0.2, random_state=55) "
   ]
  },
  {
   "cell_type": "code",
   "execution_count": 7,
   "id": "5efd1a25",
   "metadata": {},
   "outputs": [
    {
     "name": "stdout",
     "output_type": "stream",
     "text": [
      "LDA Training Accuracy: 0.9648351648351648\n",
      "LDA Testing Accuracy: 0.9649122807017544\n"
     ]
    },
    {
     "data": {
      "text/plain": [
       "<AxesSubplot:>"
      ]
     },
     "execution_count": 7,
     "metadata": {},
     "output_type": "execute_result"
    },
    {
     "data": {
      "image/png": "[encoded data removed]",
      "text/plain": [
       "<Figure size 640x480 with 2 Axes>"
      ]
     },
     "metadata": {},
     "output_type": "display_data"
    }
   ],
   "source": [
    "#LINEAR DISCRIMINANT ANALYSIS \n",
    "lda = LinearDiscriminantAnalysis().fit(X,y)\n",
    "#lda.fit(X_train, y_train)\n",
    "\n",
    "y_pred_test = lda.predict(X_test)\n",
    "y_pred_train = lda.predict(X_train)\n",
    "\n",
    "#ACCURACY\n",
    "accuracy_train = lda.score(X_train, y_train) \n",
    "print('LDA Training Accuracy:', accuracy_train)\n",
    "accuracy_test = lda.score(X_test, y_test) \n",
    "print('LDA Testing Accuracy:', accuracy_test)\n",
    "\n",
    "#CONFUSION MATRIX\n",
    "cm = confusion_matrix(y_test, y_pred_test)\n",
    "sns.heatmap(cm, annot=True)"
   ]
  },
  {
   "cell_type": "code",
   "execution_count": 8,
   "id": "97762ab1",
   "metadata": {},
   "outputs": [
    {
     "name": "stdout",
     "output_type": "stream",
     "text": [
      "Penalized Elastic Training Accuracy: 0.8857142857142857\n",
      "Penalized Elastic Testing Accuracy: 0.9385964912280702\n"
     ]
    },
    {
     "name": "stderr",
     "output_type": "stream",
     "text": [
      "C:\\Users\\asamc\\anaconda3\\lib\\site-packages\\sklearn\\linear_model\\_sag.py:352: ConvergenceWarning: The max_iter was reached which means the coef_ did not converge\n",
      "  warnings.warn(\n",
      "C:\\Users\\asamc\\anaconda3\\lib\\site-packages\\sklearn\\base.py:450: UserWarning: X does not have valid feature names, but LogisticRegression was fitted with feature names\n",
      "  warnings.warn(\n",
      "C:\\Users\\asamc\\anaconda3\\lib\\site-packages\\sklearn\\base.py:450: UserWarning: X does not have valid feature names, but LogisticRegression was fitted with feature names\n",
      "  warnings.warn(\n",
      "C:\\Users\\asamc\\anaconda3\\lib\\site-packages\\sklearn\\base.py:450: UserWarning: X does not have valid feature names, but LogisticRegression was fitted with feature names\n",
      "  warnings.warn(\n",
      "C:\\Users\\asamc\\anaconda3\\lib\\site-packages\\sklearn\\base.py:450: UserWarning: X does not have valid feature names, but LogisticRegression was fitted with feature names\n",
      "  warnings.warn(\n"
     ]
    },
    {
     "data": {
      "text/plain": [
       "<AxesSubplot:>"
      ]
     },
     "execution_count": 8,
     "metadata": {},
     "output_type": "execute_result"
    },
    {
     "data": {
      "image/png": "[encoded data removed]",
      "text/plain": [
       "<Figure size 640x480 with 2 Axes>"
      ]
     },
     "metadata": {},
     "output_type": "display_data"
    }
   ],
   "source": [
    "#PENALIZED ELASTIC MODEL \n",
    "p_elas = LogisticRegression(penalty='elasticnet', l1_ratio=0.5, C=10, solver='saga', max_iter=10000, class_weight = 'balanced')\n",
    "\n",
    "p_elas.fit(X_train, y_train)\n",
    "\n",
    "scaler = StandardScaler()\n",
    "scaler.fit(X)\n",
    "\n",
    "X_train_scaled = scaler.transform(X_train)\n",
    "X_test_scaled = scaler.transform(X_test)\n",
    "\n",
    "y_pred_test = p_elas.predict(X_test_scaled) \n",
    "y_pred_train = p_elas.predict(X_train_scaled)\n",
    " \n",
    "#ACCURACY\n",
    "accuracy_train = p_elas.score(X_train_scaled, y_train) \n",
    "print('Penalized Elastic Training Accuracy:', accuracy_train)\n",
    "\n",
    "accuracy_test = p_elas.score(X_test_scaled, y_test) \n",
    "print('Penalized Elastic Testing Accuracy:', accuracy_test)\n",
    "\n",
    "#CONFUSION MATRIX\n",
    "cm = confusion_matrix(y_test, y_pred_test)\n",
    "sns.heatmap(cm, annot=True)"
   ]
  },
  {
   "cell_type": "code",
   "execution_count": 9,
   "id": "fd7fb7f1",
   "metadata": {},
   "outputs": [
    {
     "name": "stdout",
     "output_type": "stream",
     "text": [
      "PLS Classification Training Accuracy: 0.9714285714285714\n",
      "PLS Classification Testing Accuracy: 0.9824561403508771\n"
     ]
    },
    {
     "data": {
      "text/plain": [
       "<AxesSubplot:>"
      ]
     },
     "execution_count": 9,
     "metadata": {},
     "output_type": "execute_result"
    },
    {
     "data": {
      "image/png": "[encoded data removed]",
      "text/plain": [
       "<Figure size 640x480 with 2 Axes>"
      ]
     },
     "metadata": {},
     "output_type": "display_data"
    }
   ],
   "source": [
    "#PARTIAL LEAST SQUARES CLASSIFICATION \n",
    "\n",
    "pls_c = PLSRegression(n_components=2)\n",
    "pls_c.fit(X_train, y_train)\n",
    "\n",
    "X_train_pls = pls_c.transform(X_train)\n",
    "X_test_pls = pls_c.transform(X_test)\n",
    "\n",
    "cls = LogisticRegression()\n",
    "cls.fit(X_train_pls, y_train)\n",
    "\n",
    "y_pred_train = cls.predict(X_train_pls)\n",
    "y_pred_test = cls.predict(X_test_pls)\n",
    "\n",
    "#ACCURACY\n",
    "accuracy_train = cls.score(X_train_pls, y_train) \n",
    "print('PLS Classification Training Accuracy:', accuracy_train)\n",
    "accuracy_test = cls.score(X_test_pls, y_test) \n",
    "print('PLS Classification Testing Accuracy:', accuracy_test)\n",
    "\n",
    "cm = confusion_matrix(y_test, y_pred_test)\n",
    "sns.heatmap(cm, annot=True)"
   ]
  },
  {
   "cell_type": "code",
   "execution_count": null,
   "id": "b6ed9b67",
   "metadata": {},
   "outputs": [],
   "source": []
  }
 ],
 "metadata": {
  "kernelspec": {
   "display_name": "Python 3 (ipykernel)",
   "language": "python",
   "name": "python3"
  },
  "language_info": {
   "codemirror_mode": {
    "name": "ipython",
    "version": 3
   },
   "file_extension": ".py",
   "mimetype": "text/x-python",
   "name": "python",
   "nbconvert_exporter": "python",
   "pygments_lexer": "ipython3",
   "version": "3.9.13"
  }
 },
 "nbformat": 4,
 "nbformat_minor": 5
}
